{
  "nbformat": 4,
  "nbformat_minor": 0,
  "metadata": {
    "colab": {
      "provenance": [],
      "gpuType": "T4",
      "authorship_tag": "ABX9TyN+ncP3OCqLgSJPvo/4FcHE",
      "include_colab_link": true
    },
    "kernelspec": {
      "name": "python3",
      "display_name": "Python 3"
    },
    "language_info": {
      "name": "python"
    },
    "accelerator": "GPU"
  },
  "cells": [
    {
      "cell_type": "markdown",
      "metadata": {
        "id": "view-in-github",
        "colab_type": "text"
      },
      "source": [
        "<a href=\"https://colab.research.google.com/github/ok69531/AAIS-public/blob/main/example.ipynb\" target=\"_parent\"><img src=\"https://colab.research.google.com/assets/colab-badge.svg\" alt=\"Open In Colab\"/></a>"
      ]
    },
    {
      "cell_type": "markdown",
      "source": [
        "### Clone the repository and install packages"
      ],
      "metadata": {
        "id": "m6CN5en3BC6M"
      }
    },
    {
      "cell_type": "code",
      "execution_count": 1,
      "metadata": {
        "colab": {
          "base_uri": "https://localhost:8080/"
        },
        "id": "wgmATHAG_tMr",
        "outputId": "5c6069f6-3a2b-4b73-fb1e-8e005727e5b4"
      },
      "outputs": [
        {
          "output_type": "stream",
          "name": "stdout",
          "text": [
            "fatal: destination path 'AAIS-public' already exists and is not an empty directory.\n"
          ]
        }
      ],
      "source": [
        "!git clone https://github.com/ok69531/AAIS-public.git"
      ]
    },
    {
      "cell_type": "code",
      "source": [
        "pip install torch_geometric rdkit ogb"
      ],
      "metadata": {
        "id": "9ZcOnVNuAlH9"
      },
      "execution_count": null,
      "outputs": []
    },
    {
      "cell_type": "code",
      "source": [
        "# change current directory\n",
        "import os\n",
        "\n",
        "os.getcwd()\n",
        "os.chdir('AAIS-public')"
      ],
      "metadata": {
        "colab": {
          "base_uri": "https://localhost:8080/",
          "height": 35
        },
        "id": "JK8W2czFAzbC",
        "outputId": "663c6457-dd5b-46cb-e75d-e3445d25e3bd"
      },
      "execution_count": 5,
      "outputs": [
        {
          "output_type": "execute_result",
          "data": {
            "text/plain": [
              "'/content/AAIS-public'"
            ],
            "application/vnd.google.colaboratory.intrinsic+json": {
              "type": "string"
            }
          },
          "metadata": {},
          "execution_count": 5
        }
      ]
    },
    {
      "cell_type": "markdown",
      "source": [
        "### Import modules"
      ],
      "metadata": {
        "id": "AAel-hrvBuXu"
      }
    },
    {
      "cell_type": "code",
      "source": [
        "# import modules\n",
        "import torch\n",
        "from torch import optim\n",
        "\n",
        "import torch_geometric\n",
        "from torch_geometric.loader import DataLoader\n",
        "from ogb.graphproppred import PygGraphPropPredDataset\n",
        "\n",
        "from module.set_seed import set_seed\n",
        "from module.argument import get_parser\n",
        "from module.model import GNNGraphPred\n",
        "from module.train import train, aais_sgd_train, aais_adam_train, evaluation\n",
        "\n",
        "import numpy as np\n",
        "from copy import deepcopy"
      ],
      "metadata": {
        "id": "7Xd1yRUiBQjE"
      },
      "execution_count": 6,
      "outputs": []
    },
    {
      "cell_type": "markdown",
      "source": [
        "### Load arguments"
      ],
      "metadata": {
        "id": "-VwwelspB0Qq"
      }
    },
    {
      "cell_type": "code",
      "source": [
        "device = torch.device('cuda:0' if torch.cuda.is_available() else 'cpu')\n",
        "\n",
        "parser = get_parser()\n",
        "try:\n",
        "    args = parser.parse_args()\n",
        "except:\n",
        "    args = parser.parse_args([])\n",
        "\n",
        "args.dataset = 'clintox' # multi-task dataset\n",
        "args.num_workers = 0\n",
        "args.train_type = 'aais'\n",
        "\n",
        "if args.dataset == \"tox21\":\n",
        "    num_task = 12\n",
        "elif args.dataset == \"hiv\":\n",
        "    num_task = 1\n",
        "elif args.dataset == \"bace\":\n",
        "    num_task = 1\n",
        "elif args.dataset == \"bbbp\":\n",
        "    num_task = 1\n",
        "elif args.dataset == \"toxcast\":\n",
        "    num_task = 617\n",
        "elif args.dataset == \"sider\":\n",
        "    num_task = 27\n",
        "elif args.dataset == \"clintox\":\n",
        "    num_task = 2\n",
        "\n",
        "print(f'Device: {device}')\n",
        "print(args)"
      ],
      "metadata": {
        "colab": {
          "base_uri": "https://localhost:8080/"
        },
        "id": "REWRUTPDBw51",
        "outputId": "c630c25b-5a80-4787-f7e1-b7d884406e3c"
      },
      "execution_count": 13,
      "outputs": [
        {
          "output_type": "stream",
          "name": "stdout",
          "text": [
            "Device: cuda:0\n",
            "Namespace(num_runs=10, batch_size=32, epochs=100, lr=0.001, lr_scale=1, num_layer=5, emb_dim=300, dropout_ratio=0.5, graph_pooling='mean', JK='last', gnn_type='gcn', ratio=0.5, m=3, step_size=0.001, max_pert=0.01, burn=20, dataset='clintox', num_workers=0, virtual=False, residual=False, train_type='aais', optim_method='sgd')\n"
          ]
        },
        {
          "output_type": "stream",
          "name": "stderr",
          "text": [
            "usage: colab_kernel_launcher.py [-h] [--num_runs NUM_RUNS] [--batch_size BATCH_SIZE]\n",
            "                                [--epochs EPOCHS] [--lr LR] [--lr_scale LR_SCALE]\n",
            "                                [--num_layer NUM_LAYER] [--emb_dim EMB_DIM]\n",
            "                                [--dropout_ratio DROPOUT_RATIO] [--graph_pooling GRAPH_POOLING]\n",
            "                                [--JK JK] [--gnn_type GNN_TYPE] [--ratio RATIO] [--m M]\n",
            "                                [--step_size STEP_SIZE] [--max_pert MAX_PERT] [--burn BURN]\n",
            "                                [--dataset DATASET] [--num_workers NUM_WORKERS]\n",
            "                                [--virtual VIRTUAL] [--residual RESIDUAL]\n",
            "                                [--train_type TRAIN_TYPE] [--optim_method OPTIM_METHOD]\n",
            "colab_kernel_launcher.py: error: unrecognized arguments: -f /root/.local/share/jupyter/runtime/kernel-502c39ff-855d-4526-8c67-ba16ea5f08de.json\n"
          ]
        }
      ]
    },
    {
      "cell_type": "markdown",
      "source": [
        "### Data preparation"
      ],
      "metadata": {
        "id": "HxC5PGffB3ze"
      }
    },
    {
      "cell_type": "code",
      "source": [
        "dataset = PygGraphPropPredDataset(name = f'ogbg-mol{args.dataset}', root = 'dataset')\n",
        "split_idx = dataset.get_idx_split()\n",
        "\n",
        "train_loader = DataLoader(dataset[split_idx['train']], batch_size = args.batch_size, shuffle = True, num_workers = args.num_workers)\n",
        "val_loader = DataLoader(dataset[split_idx['valid']], batch_size = args.batch_size, shuffle = False, num_workers = args.num_workers)\n",
        "test_loader = DataLoader(dataset[split_idx['test']], batch_size = args.batch_size, shuffle = False, num_workers = args.num_workers)"
      ],
      "metadata": {
        "id": "1g2PUIamB2Ot"
      },
      "execution_count": 14,
      "outputs": []
    },
    {
      "cell_type": "code",
      "source": [
        "for _, batch in enumerate(train_loader):\n",
        "  batch = batch.to(device)\n",
        "  break\n",
        "\n",
        "batch # batch contains 32 graphs"
      ],
      "metadata": {
        "colab": {
          "base_uri": "https://localhost:8080/"
        },
        "id": "uiFEe4Z1Ceic",
        "outputId": "c9916fa9-ca36-4b2b-aa6f-df52a373fc7d"
      },
      "execution_count": 11,
      "outputs": [
        {
          "output_type": "execute_result",
          "data": {
            "text/plain": [
              "DataBatch(edge_index=[2, 1526], edge_attr=[1526, 3], x=[732, 9], y=[32, 2], num_nodes=732, batch=[732], ptr=[33])"
            ]
          },
          "metadata": {},
          "execution_count": 11
        }
      ]
    },
    {
      "cell_type": "markdown",
      "source": [
        "### Model"
      ],
      "metadata": {
        "id": "2J8SIgFEDO5B"
      }
    },
    {
      "cell_type": "code",
      "source": [
        "seed = 0\n",
        "set_seed(seed)\n",
        "torch_geometric.seed_everything(seed)\n",
        "\n",
        "model = GNNGraphPred(num_tasks = num_task, num_layer = args.num_layer, emb_dim = args.emb_dim,\n",
        "                    gnn_type = args.gnn_type,\n",
        "                    graph_pooling = args.graph_pooling, drop_ratio = args.dropout_ratio, JK = args.JK,\n",
        "                    virtual_node = args.virtual, residual = args.residual)\n",
        "model = model.to(device)\n",
        "\n",
        "if args.optim_method == 'sgd':\n",
        "    optimizer = optim.SGD(model.parameters(), lr = args.lr)\n",
        "elif args.optim_method == 'adam':\n",
        "    iteration = 0\n",
        "    first_moment = 0.\n",
        "    second_moment = 0.\n",
        "    optimizer = optim.Adam(model.parameters(), lr = args.lr)\n",
        "\n",
        "criterion = torch.nn.BCEWithLogitsLoss(reduction = 'sum')\n",
        "\n",
        "print(model)\n",
        "print(optimizer)"
      ],
      "metadata": {
        "colab": {
          "base_uri": "https://localhost:8080/"
        },
        "id": "W4jCRuPGDN-b",
        "outputId": "a3560645-a7e4-4c45-f1e8-25297f81389d"
      },
      "execution_count": 20,
      "outputs": [
        {
          "output_type": "stream",
          "name": "stdout",
          "text": [
            "Random seed set as 0\n",
            "GNNGraphPred(\n",
            "  (gnn): GNN(\n",
            "    (atom_encoder): AtomEncoder(\n",
            "      (atom_embedding_list): ModuleList(\n",
            "        (0): Embedding(119, 300)\n",
            "        (1): Embedding(5, 300)\n",
            "        (2-3): 2 x Embedding(12, 300)\n",
            "        (4): Embedding(10, 300)\n",
            "        (5-6): 2 x Embedding(6, 300)\n",
            "        (7-8): 2 x Embedding(2, 300)\n",
            "      )\n",
            "    )\n",
            "    (gnns): ModuleList(\n",
            "      (0-4): 5 x GCNConv()\n",
            "    )\n",
            "    (batch_norms): ModuleList(\n",
            "      (0-4): 5 x BatchNorm1d(300, eps=1e-05, momentum=0.1, affine=True, track_running_stats=True)\n",
            "    )\n",
            "  )\n",
            "  (graph_pred_linear): Linear(in_features=300, out_features=2, bias=True)\n",
            ")\n",
            "SGD (\n",
            "Parameter Group 0\n",
            "    dampening: 0\n",
            "    differentiable: False\n",
            "    foreach: None\n",
            "    lr: 0.001\n",
            "    maximize: False\n",
            "    momentum: 0\n",
            "    nesterov: False\n",
            "    weight_decay: 0\n",
            ")\n"
          ]
        }
      ]
    },
    {
      "cell_type": "markdown",
      "source": [
        "### One-step influence function"
      ],
      "metadata": {
        "id": "HqUd7EXyCWKY"
      }
    },
    {
      "cell_type": "code",
      "source": [
        "def flat_grad(grad_list):\n",
        "    gradient = torch.cat([x.view(-1) for x in grad_list])\n",
        "    return gradient\n",
        "\n",
        "\n",
        "def sample_in_batch(batch, i):\n",
        "    one_sample = batch[i]\n",
        "\n",
        "    x = one_sample.x\n",
        "    edge_attr = one_sample.edge_attr\n",
        "    edge_index = one_sample.edge_index\n",
        "    y = one_sample.y\n",
        "    b = torch.zeros(one_sample.num_nodes).to(torch.int64).to(x.device)\n",
        "\n",
        "    return (x, edge_attr, edge_index, b, y)\n",
        "\n",
        "\n",
        "def compute_lin_sample_grad(model, embedding, target, criterion):\n",
        "    model.eval()\n",
        "\n",
        "    embedding = embedding.unsqueeze(0)\n",
        "    pred = model(embedding).to(torch.float32)\n",
        "\n",
        "    y = target.view(pred.shape).to(torch.float32)\n",
        "    is_labeled = y==y\n",
        "    loss = criterion(pred[is_labeled], y[is_labeled])\n",
        "\n",
        "    return torch.autograd.grad(loss, model.parameters())\n",
        "\n",
        "\n",
        "def sgd_lin_if(model, batch, criterion, args):\n",
        "    model.eval()\n",
        "\n",
        "    eta = args.lr\n",
        "\n",
        "    embeddings = model.pool(model.gnn(batch), batch.batch)\n",
        "    targets = batch.y\n",
        "\n",
        "    sample_grads = torch.stack([flat_grad(compute_lin_sample_grad(model.graph_pred_linear, embeddings[i], targets[i], criterion)) for i in range(len(embeddings))])\n",
        "\n",
        "    sample_influence = []\n",
        "    for i in range(sample_grads.size(0)):\n",
        "        if_tmp = torch.abs(eta * sample_grads[i].dot(sample_grads[i]))\n",
        "        sample_influence.append(if_tmp)\n",
        "    sample_influence = torch.stack(sample_influence)\n",
        "\n",
        "    return sample_influence\n"
      ],
      "metadata": {
        "id": "YDtIAMsZCYqf"
      },
      "execution_count": 12,
      "outputs": []
    },
    {
      "cell_type": "code",
      "source": [
        "# influence value of per samples\n",
        "sgd_lin_if(model, batch, criterion, args)"
      ],
      "metadata": {
        "colab": {
          "base_uri": "https://localhost:8080/"
        },
        "id": "ovYK0KrKDAAO",
        "outputId": "e56c637c-8579-41ce-84e9-d9071e3ca118"
      },
      "execution_count": 21,
      "outputs": [
        {
          "output_type": "execute_result",
          "data": {
            "text/plain": [
              "tensor([0.0132, 0.0156, 0.0148, 0.0154, 0.0142, 0.0137, 0.0133, 0.0134, 0.0136,\n",
              "        0.0158, 0.0145, 0.0207, 0.0207, 0.0258, 0.0141, 0.0153, 0.0141, 0.0132,\n",
              "        0.0145, 0.0199, 0.0132, 0.0126, 0.0140, 0.0138, 0.0151, 0.0153, 0.0143,\n",
              "        0.0150, 0.0175, 0.0141, 0.0142, 0.0211], device='cuda:0')"
            ]
          },
          "metadata": {},
          "execution_count": 21
        }
      ]
    },
    {
      "cell_type": "markdown",
      "source": [
        "### AAIS train function"
      ],
      "metadata": {
        "id": "f-qSzwdRCb5c"
      }
    },
    {
      "cell_type": "code",
      "source": [
        "def aais_sgd_train(model, device, loader, criterion, optimizer, args):\n",
        "    model.train()\n",
        "\n",
        "    # arguments\n",
        "    m = args.m\n",
        "    emb_dim = args.emb_dim\n",
        "    ratio = args.ratio\n",
        "    max_pert = args.max_pert\n",
        "    step_size = args.step_size\n",
        "\n",
        "    for step, batch in enumerate(loader):\n",
        "        batch = batch.to(device)\n",
        "\n",
        "        if batch.x.shape[0] == 1 or batch.batch[-1] == 0:\n",
        "            pass\n",
        "        else:\n",
        "            optimizer.zero_grad()\n",
        "\n",
        "            # number of data to apply augmentation\n",
        "            k = int(len(batch.y) * ratio)\n",
        "\n",
        "            # influence value of per samples\n",
        "            loo_influence = sgd_lin_if(model, batch, criterion, args)\n",
        "\n",
        "            # choose top-k samples\n",
        "            _, topk_idx = torch.topk(loo_influence, k = k, axis = -1)\n",
        "            low_idx = [i for i in range(len(batch.y)) if i not in topk_idx]\n",
        "\n",
        "            # perturbation initialize\n",
        "            perturb = torch.FloatTensor(k, emb_dim).uniform_(-max_pert, max_pert).to(device)\n",
        "            perturb.requires_grad_()\n",
        "\n",
        "            y = batch.y\n",
        "            is_labeled = y == y # ignore nan targets (unlabeled) when computing training loss.\n",
        "\n",
        "            # perturbation update\n",
        "            for _ in range(m-1):\n",
        "                graph_embedding = model.pool(model.gnn(batch), batch.batch)[topk_idx, :]\n",
        "                graph_embedding = graph_embedding + perturb\n",
        "\n",
        "                pred = model.graph_pred_linear(graph_embedding)\n",
        "\n",
        "                topk_y = y[topk_idx]\n",
        "                topk_is_labeled = topk_y == topk_y\n",
        "\n",
        "                loss = 0\n",
        "                loss = criterion(pred.to(torch.float32)[topk_is_labeled], topk_y.to(torch.float32)[topk_is_labeled])\n",
        "                loss = loss / (torch.sum(is_labeled) * m)\n",
        "                loss.backward() # cumulate the gradients\n",
        "\n",
        "                perturb_data = perturb.detach() + step_size * torch.sign(perturb.grad.detach())\n",
        "                perturb.data = perturb_data.data\n",
        "                perturb.grad[:] = 0\n",
        "\n",
        "            graph_embedding = model.pool(model.gnn(batch), batch.batch)\n",
        "\n",
        "            topk_graph_embedding = graph_embedding[topk_idx, :] + perturb\n",
        "            low_graph_embedding = graph_embedding[low_idx, :]\n",
        "\n",
        "            low_y = y[low_idx]\n",
        "            low_is_labeled = low_y == low_y\n",
        "\n",
        "            topk_pred = model.graph_pred_linear(topk_graph_embedding)\n",
        "            low_pred = model.graph_pred_linear(low_graph_embedding)\n",
        "\n",
        "            loss = 0\n",
        "            topk_loss = criterion(topk_pred.to(torch.float32)[topk_is_labeled], topk_y.to(torch.float32)[topk_is_labeled])\n",
        "            low_loss = criterion(low_pred.to(torch.float32)[low_is_labeled], low_y.to(torch.float32)[low_is_labeled])\n",
        "\n",
        "            topk_loss = topk_loss / (torch.sum(is_labeled) * m)\n",
        "            low_loss = topk_loss / (torch.sum(is_labeled))\n",
        "\n",
        "            loss = topk_loss + low_loss\n",
        "\n",
        "            loss.backward()\n",
        "            optimizer.step() # parameter update"
      ],
      "metadata": {
        "id": "SOo_eHBOCEHp"
      },
      "execution_count": 22,
      "outputs": []
    },
    {
      "cell_type": "code",
      "source": [
        "aais_sgd_train(model, device, train_loader, criterion, optimizer, args)"
      ],
      "metadata": {
        "id": "Yq6VO-dqEYsF"
      },
      "execution_count": 23,
      "outputs": []
    },
    {
      "cell_type": "markdown",
      "source": [
        "### Training loop"
      ],
      "metadata": {
        "id": "xWb_2mwlFPZV"
      }
    },
    {
      "cell_type": "code",
      "source": [
        "criterion = torch.nn.BCEWithLogitsLoss(reduction = 'sum')\n",
        "\n",
        "auc_vals, auc_tests = [], []\n",
        "f1_vals, f1_tests = [], []\n",
        "\n",
        "seed = 0\n",
        "set_seed(seed)\n",
        "torch_geometric.seed_everything(seed)\n",
        "\n",
        "best_val_auc, final_test_auc = 0, 0\n",
        "best_val_f1, final_test_f1 = 0, 0\n",
        "\n",
        "model = GNNGraphPred(num_tasks = num_task, num_layer = args.num_layer, emb_dim = args.emb_dim,\n",
        "                    gnn_type = args.gnn_type,\n",
        "                    graph_pooling = args.graph_pooling, drop_ratio = args.dropout_ratio, JK = args.JK,\n",
        "                    virtual_node = args.virtual, residual = args.residual)\n",
        "model = model.to(device)\n",
        "\n",
        "\n",
        "if args.optim_method == 'sgd':\n",
        "    optimizer = optim.SGD(model.parameters(), lr = args.lr)\n",
        "elif args.optim_method == 'adam':\n",
        "    iteration = 0\n",
        "    first_moment = 0.\n",
        "    second_moment = 0.\n",
        "    optimizer = optim.Adam(model.parameters(), lr = args.lr)\n",
        "\n",
        "\n",
        "for epoch in range(1, args.epochs + 1):\n",
        "    if (args.train_type == 'aais') & (args.optim_method == 'sgd'):\n",
        "        if epoch <= args.burn:\n",
        "            train(model, device, train_loader, criterion, optimizer)\n",
        "        else:\n",
        "            aais_sgd_train(model, device, train_loader, criterion, optimizer, args)\n",
        "    elif (args.train_type == 'aais') & (args.optim_method == 'adam'):\n",
        "        if epoch <= args.burn:\n",
        "            train(model, device, train_loader, criterion, optimizer)\n",
        "        else:\n",
        "            iteration, first_moment, second_moment = aais_adam_train(model, device, train_loader, criterion, optimizer, args, iteration, first_moment, second_moment)\n",
        "\n",
        "    train_loss, train_auc, train_f1 = evaluation(model, device, train_loader, criterion, args)\n",
        "    val_loss, val_auc, val_f1 = evaluation(model, device, val_loader, criterion, args)\n",
        "    test_loss, test_auc, test_f1 = evaluation(model, device, test_loader, criterion, args)\n",
        "\n",
        "    if val_auc > best_val_auc:\n",
        "        best_val_auc = val_auc\n",
        "        final_test_auc = test_auc\n",
        "        best_val_f1 = val_f1\n",
        "        final_test_f1 = test_f1\n",
        "\n",
        "        best_epoch = epoch\n",
        "        model_params = deepcopy(model.state_dict())\n",
        "\n",
        "    if epoch % 10 == 0:\n",
        "        print(f'=== epoch {epoch}')\n",
        "        print(f'train loss: {train_loss:.4f}, train auc: {train_auc*100:.2f}')\n",
        "        print(f'val loss: {val_loss:.4f}, val auc: {val_auc*100:.2f}')\n",
        "        print(f'test loss: {test_loss:.4f}, test auc: {test_auc*100:.2f}')\n"
      ],
      "metadata": {
        "colab": {
          "base_uri": "https://localhost:8080/"
        },
        "id": "aoV0j4vbFRqe",
        "outputId": "a312d7b2-e0f7-44d0-e10c-cc6541383d82"
      },
      "execution_count": 24,
      "outputs": [
        {
          "output_type": "stream",
          "name": "stdout",
          "text": [
            "Random seed set as 0\n",
            "=== epoch 10\n",
            "train loss: 0.7590, train auc: 48.89\n",
            "val loss: 0.7674, val auc: 36.94\n",
            "test loss: 0.7636, test auc: 43.10\n",
            "=== epoch 20\n",
            "train loss: 0.7630, train auc: 51.33\n",
            "val loss: 0.7726, val auc: 38.21\n",
            "test loss: 0.7685, test auc: 45.06\n",
            "=== epoch 30\n",
            "train loss: 0.5818, train auc: 75.12\n",
            "val loss: 0.5683, val auc: 75.31\n",
            "test loss: 0.5901, test auc: 72.08\n",
            "=== epoch 40\n",
            "train loss: 0.5804, train auc: 85.34\n",
            "val loss: 0.5711, val auc: 87.37\n",
            "test loss: 0.5929, test auc: 78.48\n",
            "=== epoch 50\n",
            "train loss: 0.5642, train auc: 87.38\n",
            "val loss: 0.5495, val auc: 92.18\n",
            "test loss: 0.5816, test auc: 82.25\n",
            "=== epoch 60\n",
            "train loss: 0.5612, train auc: 90.97\n",
            "val loss: 0.5455, val auc: 96.78\n",
            "test loss: 0.5868, test auc: 84.37\n",
            "=== epoch 70\n",
            "train loss: 0.5588, train auc: 92.69\n",
            "val loss: 0.5435, val auc: 96.67\n",
            "test loss: 0.5884, test auc: 85.72\n",
            "=== epoch 80\n",
            "train loss: 0.5439, train auc: 94.05\n",
            "val loss: 0.5291, val auc: 97.37\n",
            "test loss: 0.5664, test auc: 86.70\n",
            "=== epoch 90\n",
            "train loss: 0.5437, train auc: 95.22\n",
            "val loss: 0.5306, val auc: 98.31\n",
            "test loss: 0.5687, test auc: 84.94\n",
            "=== epoch 100\n",
            "train loss: 0.5427, train auc: 96.02\n",
            "val loss: 0.5320, val auc: 98.20\n",
            "test loss: 0.5694, test auc: 85.64\n"
          ]
        }
      ]
    },
    {
      "cell_type": "markdown",
      "source": [
        "### Appendix - Plotting the top-k influential data"
      ],
      "metadata": {
        "id": "tqccaHC2FZEV"
      }
    },
    {
      "cell_type": "code",
      "source": [
        "model.load_state_dict(model_params)\n",
        "model.eval()\n",
        "\n",
        "train_y = []\n",
        "test_y = []\n",
        "train_embedding = []\n",
        "test_embedding = []\n",
        "train_influence = []\n",
        "test_influence = []\n",
        "\n",
        "for _, batch in enumerate(train_loader):\n",
        "    batch = batch.to(device)\n",
        "    train_y.append(batch.y[:, 1])\n",
        "    train_embedding.append(model.pool(model.gnn(batch), batch.batch))\n",
        "    train_influence.append(sgd_lin_if(model, batch, criterion, args))\n",
        "\n",
        "for _, batch in enumerate(test_loader):\n",
        "    batch = batch.to(device)\n",
        "    test_y.append(batch.y[:, 1])\n",
        "    test_embedding.append(model.pool(model.gnn(batch), batch.batch))\n",
        "    test_influence.append(sgd_lin_if(model, batch, criterion, args))\n",
        "\n",
        "train_y = torch.cat(train_y).view(-1).cpu().numpy()\n",
        "train_embedding = torch.cat(train_embedding).detach().cpu().numpy()\n",
        "train_influence = torch.cat(train_influence).cpu()\n",
        "\n",
        "test_y = torch.cat(test_y).view(-1).cpu().numpy()\n",
        "test_embedding = torch.cat(test_embedding).detach().cpu().numpy()\n",
        "test_influence = torch.cat(test_influence).cpu()"
      ],
      "metadata": {
        "id": "cV-aDGKaFjPJ"
      },
      "execution_count": 28,
      "outputs": []
    },
    {
      "cell_type": "code",
      "source": [
        "from sklearn.manifold import TSNE\n",
        "import matplotlib.pyplot as plt\n",
        "\n",
        "tsne = TSNE(n_components = 2, random_state = 0, perplexity = 50)\n",
        "train_tsne = tsne.fit_transform(train_embedding)\n",
        "\n",
        "train_top_k = int(len(train_y) * 0.3)\n",
        "_, topk_idxs = torch.topk(torch.tensor(train_influence), train_top_k)\n",
        "low_idxs = np.array([i for i in range(len(train_y)) if i not in topk_idxs])\n",
        "\n",
        "cdict = {0: 'cornflowerblue', 1: 'firebrick'}\n",
        "\n",
        "fig, ax = plt.subplots(figsize = (7, 7))\n",
        "\n",
        "for g in np.unique(train_y):\n",
        "    idx = np.where(train_y[low_idxs] == g)[0]\n",
        "    ax.scatter(train_tsne[low_idxs][idx][:, 0], train_tsne[low_idxs][idx][:, 1], label = '_nolgend_', c = cdict[g], alpha = 0.1)\n",
        "\n",
        "for g in np.unique(train_y):\n",
        "    idx = np.where(train_y[topk_idxs] == g)[0]\n",
        "    ax.scatter(train_tsne[topk_idxs][idx][:, 0], train_tsne[topk_idxs][idx][:, 1], c = cdict[g], label = g)\n",
        "\n",
        "plt.legend()\n",
        "plt.show()\n",
        "plt.close()\n"
      ],
      "metadata": {
        "colab": {
          "base_uri": "https://localhost:8080/",
          "height": 654
        },
        "id": "VRNjq200FTAW",
        "outputId": "e28b4707-0fb7-43f4-8852-9a20069ba0e5"
      },
      "execution_count": 29,
      "outputs": [
        {
          "output_type": "stream",
          "name": "stderr",
          "text": [
            "<ipython-input-29-0b6fd88cb7df>:8: UserWarning: To copy construct from a tensor, it is recommended to use sourceTensor.clone().detach() or sourceTensor.clone().detach().requires_grad_(True), rather than torch.tensor(sourceTensor).\n",
            "  _, topk_idxs = torch.topk(torch.tensor(train_influence), train_top_k)\n"
          ]
        },
        {
          "output_type": "display_data",
          "data": {
            "text/plain": [
              "<Figure size 700x700 with 1 Axes>"
            ],
            "image/png": "[encoded data removed]"
          },
          "metadata": {}
        }
      ]
    },
    {
      "cell_type": "markdown",
      "source": [
        "- While the dimensions are not neatly separated for each label, data points with high influence primarily appear in regions where major and minor labels overlap."
      ],
      "metadata": {
        "id": "T28dA0pEFpM6"
      }
    }
  ]
}