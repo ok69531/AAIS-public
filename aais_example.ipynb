{
  "nbformat": 4,
  "nbformat_minor": 0,
  "metadata": {
    "colab": {
      "provenance": [],
      "gpuType": "T4",
      "authorship_tag": "ABX9TyNr9bBfV+ehagVZibcdE3HA",
      "include_colab_link": true
    },
    "kernelspec": {
      "name": "python3",
      "display_name": "Python 3"
    },
    "language_info": {
      "name": "python"
    },
    "accelerator": "GPU"
  },
  "cells": [
    {
      "cell_type": "markdown",
      "metadata": {
        "id": "view-in-github",
        "colab_type": "text"
      },
      "source": [
        "<a href=\"https://colab.research.google.com/github/ok69531/AAIS-public/blob/main/aais_example.ipynb\" target=\"_parent\"><img src=\"https://colab.research.google.com/assets/colab-badge.svg\" alt=\"Open In Colab\"/></a>"
      ]
    },
    {
      "cell_type": "markdown",
      "source": [
        "\n",
        "\n",
        "---\n",
        "\n",
        "\n",
        "### Contents\n",
        "- #### Clone the repository and install packages\n",
        "  - clone the repository and set the experimental environment\n",
        "\n",
        "- #### Import modules\n",
        "  - import required modules\n",
        "  - check if gpu is available\n",
        "\n",
        "- #### Load arguments\n",
        "\n",
        "- #### Data preparation\n",
        "  - load dataset and check the data structure\n",
        "  \n",
        "- #### Model\n",
        "  - import model\n",
        "\n",
        "- #### One-step influence function\n",
        "  - one-step influence function when the optimizer is SGD\n",
        "  - these functions denote equation 8 in the paper\n",
        "\n",
        "- #### AAIS train function ()\n",
        "  - this function denotes Algorithm 1 in the paper\n",
        "\n",
        "- #### Training loop\n",
        "\n",
        "- #### Appendix - Plotting the top-k influential data\n",
        "\n",
        "\n",
        "---\n",
        "\n"
      ],
      "metadata": {
        "id": "2PHfEpVVY4tq"
      }
    },
    {
      "cell_type": "markdown",
      "source": [
        "### Clone the repository and install packages"
      ],
      "metadata": {
        "id": "m6CN5en3BC6M"
      }
    },
    {
      "cell_type": "code",
      "execution_count": 1,
      "metadata": {
        "colab": {
          "base_uri": "https://localhost:8080/"
        },
        "id": "wgmATHAG_tMr",
        "outputId": "b44b039b-c11e-46de-cd23-a371f3f8249d"
      },
      "outputs": [
        {
          "output_type": "stream",
          "name": "stdout",
          "text": [
            "Cloning into 'AAIS-public'...\n",
            "remote: Enumerating objects: 86, done.\u001b[K\n",
            "remote: Counting objects: 100% (86/86), done.\u001b[K\n",
            "remote: Compressing objects: 100% (58/58), done.\u001b[K\n",
            "remote: Total 86 (delta 44), reused 56 (delta 24), pack-reused 0\u001b[K\n",
            "Receiving objects: 100% (86/86), 230.68 KiB | 1.17 MiB/s, done.\n",
            "Resolving deltas: 100% (44/44), done.\n"
          ]
        }
      ],
      "source": [
        "!git clone https://github.com/ok69531/AAIS-public.git"
      ]
    },
    {
      "cell_type": "code",
      "source": [
        "# change current directory\n",
        "import os\n",
        "\n",
        "os.getcwd()\n",
        "os.chdir('AAIS-public')"
      ],
      "metadata": {
        "id": "JK8W2czFAzbC"
      },
      "execution_count": 3,
      "outputs": []
    },
    {
      "cell_type": "code",
      "source": [
        "pip install -r requirements.txt"
      ],
      "metadata": {
        "id": "9ZcOnVNuAlH9"
      },
      "execution_count": null,
      "outputs": []
    },
    {
      "cell_type": "markdown",
      "source": [
        "### Import modules"
      ],
      "metadata": {
        "id": "AAel-hrvBuXu"
      }
    },
    {
      "cell_type": "code",
      "source": [
        "# import modules\n",
        "import torch\n",
        "from torch import optim\n",
        "\n",
        "import torch_geometric\n",
        "from torch_geometric.loader import DataLoader\n",
        "from ogb.graphproppred import PygGraphPropPredDataset\n",
        "\n",
        "from module.set_seed import set_seed\n",
        "from module.argument import get_parser\n",
        "from module.model import GNNGraphPred\n",
        "from module.train import train, aais_sgd_train, aais_adam_train, evaluation\n",
        "\n",
        "import numpy as np\n",
        "from copy import deepcopy"
      ],
      "metadata": {
        "id": "7Xd1yRUiBQjE"
      },
      "execution_count": 5,
      "outputs": []
    },
    {
      "cell_type": "code",
      "source": [
        "# check GPU is available\n",
        "print(f'version of torch: {torch.__version__}')\n",
        "print(f'GPU is available: {torch.cuda.is_available()}')"
      ],
      "metadata": {
        "colab": {
          "base_uri": "https://localhost:8080/"
        },
        "id": "2SEPJdkWYyO0",
        "outputId": "fb15d451-de32-4a9f-d4a2-ad4778dadd60"
      },
      "execution_count": 6,
      "outputs": [
        {
          "output_type": "stream",
          "name": "stdout",
          "text": [
            "version of torch: 2.0.1+cu117\n",
            "GPU is available: True\n"
          ]
        }
      ]
    },
    {
      "cell_type": "markdown",
      "source": [
        "### Load arguments"
      ],
      "metadata": {
        "id": "-VwwelspB0Qq"
      }
    },
    {
      "cell_type": "code",
      "source": [
        "device = torch.device('cuda:0' if torch.cuda.is_available() else 'cpu')\n",
        "\n",
        "parser = get_parser()\n",
        "try:\n",
        "    args = parser.parse_args()\n",
        "except:\n",
        "    args = parser.parse_args([])\n",
        "\n",
        "args.dataset = 'clintox' # multi-task dataset\n",
        "args.num_workers = 0\n",
        "args.train_type = 'aais'\n",
        "\n",
        "if args.dataset == \"tox21\":\n",
        "    num_task = 12\n",
        "elif args.dataset == \"hiv\":\n",
        "    num_task = 1\n",
        "elif args.dataset == \"bace\":\n",
        "    num_task = 1\n",
        "elif args.dataset == \"bbbp\":\n",
        "    num_task = 1\n",
        "elif args.dataset == \"toxcast\":\n",
        "    num_task = 617\n",
        "elif args.dataset == \"sider\":\n",
        "    num_task = 27\n",
        "elif args.dataset == \"clintox\":\n",
        "    num_task = 2\n",
        "\n",
        "print(f'Device: {device}')\n",
        "print(args)"
      ],
      "metadata": {
        "colab": {
          "base_uri": "https://localhost:8080/"
        },
        "id": "REWRUTPDBw51",
        "outputId": "80bcd2f6-928f-4625-aa35-50980d0bdce6"
      },
      "execution_count": 7,
      "outputs": [
        {
          "output_type": "stream",
          "name": "stdout",
          "text": [
            "Device: cuda:0\n",
            "Namespace(num_runs=10, batch_size=32, epochs=100, lr=0.001, lr_scale=1, num_layer=5, emb_dim=300, dropout_ratio=0.5, graph_pooling='mean', JK='last', gnn_type='gcn', ratio=0.5, m=3, step_size=0.001, max_pert=0.01, burn=20, dataset='clintox', num_workers=0, virtual=False, residual=False, train_type='aais', optim_method='sgd')\n"
          ]
        },
        {
          "output_type": "stream",
          "name": "stderr",
          "text": [
            "usage: colab_kernel_launcher.py [-h] [--num_runs NUM_RUNS] [--batch_size BATCH_SIZE]\n",
            "                                [--epochs EPOCHS] [--lr LR] [--lr_scale LR_SCALE]\n",
            "                                [--num_layer NUM_LAYER] [--emb_dim EMB_DIM]\n",
            "                                [--dropout_ratio DROPOUT_RATIO] [--graph_pooling GRAPH_POOLING]\n",
            "                                [--JK JK] [--gnn_type GNN_TYPE] [--ratio RATIO] [--m M]\n",
            "                                [--step_size STEP_SIZE] [--max_pert MAX_PERT] [--burn BURN]\n",
            "                                [--dataset DATASET] [--num_workers NUM_WORKERS]\n",
            "                                [--virtual VIRTUAL] [--residual RESIDUAL]\n",
            "                                [--train_type TRAIN_TYPE] [--optim_method OPTIM_METHOD]\n",
            "colab_kernel_launcher.py: error: unrecognized arguments: -f /root/.local/share/jupyter/runtime/kernel-6c5a3c5f-9df4-4cf7-b403-8e11f18e9a70.json\n"
          ]
        }
      ]
    },
    {
      "cell_type": "markdown",
      "source": [
        "### Data preparation"
      ],
      "metadata": {
        "id": "HxC5PGffB3ze"
      }
    },
    {
      "cell_type": "code",
      "source": [
        "dataset = PygGraphPropPredDataset(name = f'ogbg-mol{args.dataset}', root = 'dataset')\n",
        "split_idx = dataset.get_idx_split()\n",
        "\n",
        "train_loader = DataLoader(dataset[split_idx['train']], batch_size = args.batch_size, shuffle = True, num_workers = args.num_workers)\n",
        "val_loader = DataLoader(dataset[split_idx['valid']], batch_size = args.batch_size, shuffle = False, num_workers = args.num_workers)\n",
        "test_loader = DataLoader(dataset[split_idx['test']], batch_size = args.batch_size, shuffle = False, num_workers = args.num_workers)"
      ],
      "metadata": {
        "id": "1g2PUIamB2Ot",
        "colab": {
          "base_uri": "https://localhost:8080/"
        },
        "outputId": "0aa93b04-9a88-495c-ce8a-22896c678d14"
      },
      "execution_count": 8,
      "outputs": [
        {
          "output_type": "stream",
          "name": "stdout",
          "text": [
            "Downloading http://snap.stanford.edu/ogb/data/graphproppred/csv_mol_download/clintox.zip\n"
          ]
        },
        {
          "output_type": "stream",
          "name": "stderr",
          "text": [
            "Downloaded 0.00 GB: 100%|██████████| 2/2 [00:00<00:00, 42.63it/s]\n",
            "Processing...\n"
          ]
        },
        {
          "output_type": "stream",
          "name": "stdout",
          "text": [
            "Extracting dataset/clintox.zip\n",
            "Loading necessary files...\n",
            "This might take a while.\n",
            "Processing graphs...\n"
          ]
        },
        {
          "output_type": "stream",
          "name": "stderr",
          "text": [
            "100%|██████████| 1477/1477 [00:00<00:00, 46072.40it/s]\n"
          ]
        },
        {
          "output_type": "stream",
          "name": "stdout",
          "text": [
            "Converting graphs into PyG objects...\n"
          ]
        },
        {
          "output_type": "stream",
          "name": "stderr",
          "text": [
            "100%|██████████| 1477/1477 [00:00<00:00, 19654.15it/s]\n"
          ]
        },
        {
          "output_type": "stream",
          "name": "stdout",
          "text": [
            "Saving...\n"
          ]
        },
        {
          "output_type": "stream",
          "name": "stderr",
          "text": [
            "Done!\n"
          ]
        }
      ]
    },
    {
      "cell_type": "code",
      "source": [
        "for _, batch in enumerate(train_loader):\n",
        "  batch = batch.to(device)\n",
        "  break\n",
        "\n",
        "batch # batch contains 32 graphs"
      ],
      "metadata": {
        "colab": {
          "base_uri": "https://localhost:8080/"
        },
        "id": "uiFEe4Z1Ceic",
        "outputId": "0e49438e-0676-4b05-bf1c-0a1d32cc1871"
      },
      "execution_count": 9,
      "outputs": [
        {
          "output_type": "execute_result",
          "data": {
            "text/plain": [
              "DataBatch(edge_index=[2, 2058], edge_attr=[2058, 3], x=[971, 9], y=[32, 2], num_nodes=971, batch=[971], ptr=[33])"
            ]
          },
          "metadata": {},
          "execution_count": 9
        }
      ]
    },
    {
      "cell_type": "markdown",
      "source": [
        "### Model"
      ],
      "metadata": {
        "id": "2J8SIgFEDO5B"
      }
    },
    {
      "cell_type": "code",
      "source": [
        "seed = 0\n",
        "set_seed(seed)\n",
        "torch_geometric.seed_everything(seed)\n",
        "\n",
        "model = GNNGraphPred(num_tasks = num_task, num_layer = args.num_layer, emb_dim = args.emb_dim,\n",
        "                    gnn_type = args.gnn_type,\n",
        "                    graph_pooling = args.graph_pooling, drop_ratio = args.dropout_ratio, JK = args.JK,\n",
        "                    virtual_node = args.virtual, residual = args.residual)\n",
        "model = model.to(device)\n",
        "\n",
        "if args.optim_method == 'sgd':\n",
        "    optimizer = optim.SGD(model.parameters(), lr = args.lr)\n",
        "elif args.optim_method == 'adam':\n",
        "    iteration = 0\n",
        "    first_moment = 0.\n",
        "    second_moment = 0.\n",
        "    optimizer = optim.Adam(model.parameters(), lr = args.lr)\n",
        "\n",
        "criterion = torch.nn.BCEWithLogitsLoss(reduction = 'sum')\n",
        "\n",
        "print(model)\n",
        "print(optimizer)"
      ],
      "metadata": {
        "colab": {
          "base_uri": "https://localhost:8080/"
        },
        "id": "W4jCRuPGDN-b",
        "outputId": "9175a1a8-ab9c-4098-a20e-c3fce5cb0ece"
      },
      "execution_count": 10,
      "outputs": [
        {
          "output_type": "stream",
          "name": "stdout",
          "text": [
            "Random seed set as 0\n",
            "GNNGraphPred(\n",
            "  (gnn): GNN(\n",
            "    (atom_encoder): AtomEncoder(\n",
            "      (atom_embedding_list): ModuleList(\n",
            "        (0): Embedding(119, 300)\n",
            "        (1): Embedding(5, 300)\n",
            "        (2-3): 2 x Embedding(12, 300)\n",
            "        (4): Embedding(10, 300)\n",
            "        (5-6): 2 x Embedding(6, 300)\n",
            "        (7-8): 2 x Embedding(2, 300)\n",
            "      )\n",
            "    )\n",
            "    (gnns): ModuleList(\n",
            "      (0-4): 5 x GCNConv()\n",
            "    )\n",
            "    (batch_norms): ModuleList(\n",
            "      (0-4): 5 x BatchNorm1d(300, eps=1e-05, momentum=0.1, affine=True, track_running_stats=True)\n",
            "    )\n",
            "  )\n",
            "  (graph_pred_linear): Linear(in_features=300, out_features=2, bias=True)\n",
            ")\n",
            "SGD (\n",
            "Parameter Group 0\n",
            "    dampening: 0\n",
            "    differentiable: False\n",
            "    foreach: None\n",
            "    lr: 0.001\n",
            "    maximize: False\n",
            "    momentum: 0\n",
            "    nesterov: False\n",
            "    weight_decay: 0\n",
            ")\n"
          ]
        }
      ]
    },
    {
      "cell_type": "markdown",
      "source": [
        "### One-step influence function"
      ],
      "metadata": {
        "id": "HqUd7EXyCWKY"
      }
    },
    {
      "cell_type": "code",
      "source": [
        "def flat_grad(grad_list):\n",
        "    ''' flatten grad '''\n",
        "    gradient = torch.cat([x.view(-1) for x in grad_list])\n",
        "    return gradient\n",
        "\n",
        "\n",
        "def sample_in_batch(batch, i):\n",
        "    ''' extract one sample in batch '''\n",
        "    one_sample = batch[i]\n",
        "\n",
        "    x = one_sample.x\n",
        "    edge_attr = one_sample.edge_attr\n",
        "    edge_index = one_sample.edge_index\n",
        "    y = one_sample.y\n",
        "    b = torch.zeros(one_sample.num_nodes).to(torch.int64).to(x.device)\n",
        "\n",
        "    return (x, edge_attr, edge_index, b, y)\n",
        "\n",
        "\n",
        "def compute_lin_sample_grad(model, embedding, target, criterion):\n",
        "    ''' computing the gradient of one sample '''\n",
        "    model.eval()\n",
        "\n",
        "    embedding = embedding.unsqueeze(0)\n",
        "    pred = model(embedding).to(torch.float32)\n",
        "\n",
        "    y = target.view(pred.shape).to(torch.float32)\n",
        "    is_labeled = y==y\n",
        "    loss = criterion(pred[is_labeled], y[is_labeled])\n",
        "\n",
        "    return torch.autograd.grad(loss, model.parameters())\n",
        "\n",
        "\n",
        "def sgd_lin_if(model, batch, criterion, args):\n",
        "    ''' computing the influence value of per samples in batch '''\n",
        "    model.eval()\n",
        "\n",
        "    eta = args.lr\n",
        "\n",
        "    embeddings = model.pool(model.gnn(batch), batch.batch)\n",
        "    targets = batch.y\n",
        "\n",
        "    sample_grads = torch.stack([flat_grad(compute_lin_sample_grad(model.graph_pred_linear, embeddings[i], targets[i], criterion)) for i in range(len(embeddings))])\n",
        "\n",
        "    sample_influence = []\n",
        "    for i in range(sample_grads.size(0)):\n",
        "        if_tmp = torch.abs(eta * sample_grads[i].dot(sample_grads[i]))\n",
        "        sample_influence.append(if_tmp)\n",
        "    sample_influence = torch.stack(sample_influence)\n",
        "\n",
        "    return sample_influence\n"
      ],
      "metadata": {
        "id": "YDtIAMsZCYqf"
      },
      "execution_count": 11,
      "outputs": []
    },
    {
      "cell_type": "code",
      "source": [
        "# influence value of per samples\n",
        "sgd_lin_if(model, batch, criterion, args)"
      ],
      "metadata": {
        "colab": {
          "base_uri": "https://localhost:8080/"
        },
        "id": "ovYK0KrKDAAO",
        "outputId": "3897ee4b-86b8-4c00-dde0-48fb596a8806"
      },
      "execution_count": 12,
      "outputs": [
        {
          "output_type": "execute_result",
          "data": {
            "text/plain": [
              "tensor([0.0140, 0.0145, 0.0135, 0.0136, 0.0142, 0.0155, 0.0135, 0.0140, 0.0133,\n",
              "        0.0126, 0.0138, 0.0148, 0.0138, 0.0134, 0.0150, 0.0131, 0.0138, 0.0149,\n",
              "        0.0174, 0.0137, 0.0135, 0.0125, 0.0141, 0.0139, 0.0142, 0.0173, 0.0141,\n",
              "        0.0130, 0.0150, 0.0158, 0.0129, 0.0128], device='cuda:0')"
            ]
          },
          "metadata": {},
          "execution_count": 12
        }
      ]
    },
    {
      "cell_type": "markdown",
      "source": [
        "### AAIS train function"
      ],
      "metadata": {
        "id": "f-qSzwdRCb5c"
      }
    },
    {
      "cell_type": "code",
      "source": [
        "def aais_sgd_train(model, device, loader, criterion, optimizer, args):\n",
        "    model.train()\n",
        "\n",
        "    # arguments\n",
        "    m = args.m\n",
        "    emb_dim = args.emb_dim\n",
        "    ratio = args.ratio\n",
        "    max_pert = args.max_pert\n",
        "    step_size = args.step_size\n",
        "\n",
        "    for step, batch in enumerate(loader):\n",
        "        batch = batch.to(device)\n",
        "\n",
        "        if batch.x.shape[0] == 1 or batch.batch[-1] == 0:\n",
        "            pass\n",
        "        else:\n",
        "            optimizer.zero_grad()\n",
        "\n",
        "            # number of data to apply augmentation\n",
        "            k = int(len(batch.y) * ratio)\n",
        "\n",
        "            # influence value of per samples\n",
        "            loo_influence = sgd_lin_if(model, batch, criterion, args)\n",
        "\n",
        "            # choose top-k samples\n",
        "            _, topk_idx = torch.topk(loo_influence, k = k, axis = -1)\n",
        "            low_idx = [i for i in range(len(batch.y)) if i not in topk_idx]\n",
        "\n",
        "            # perturbation initialize\n",
        "            perturb = torch.FloatTensor(k, emb_dim).uniform_(-max_pert, max_pert).to(device)\n",
        "            perturb.requires_grad_()\n",
        "\n",
        "            y = batch.y\n",
        "            is_labeled = y == y # ignore nan targets (unlabeled) when computing training loss.\n",
        "\n",
        "            # perturbation update\n",
        "            for _ in range(m-1):\n",
        "                graph_embedding = model.pool(model.gnn(batch), batch.batch)[topk_idx, :]\n",
        "                graph_embedding = graph_embedding + perturb\n",
        "\n",
        "                pred = model.graph_pred_linear(graph_embedding)\n",
        "\n",
        "                topk_y = y[topk_idx]\n",
        "                topk_is_labeled = topk_y == topk_y\n",
        "\n",
        "                loss = 0\n",
        "                loss = criterion(pred.to(torch.float32)[topk_is_labeled], topk_y.to(torch.float32)[topk_is_labeled])\n",
        "                loss = loss / (torch.sum(is_labeled) * m)\n",
        "                loss.backward() # cumulate the gradients\n",
        "\n",
        "                perturb_data = perturb.detach() + step_size * torch.sign(perturb.grad.detach())\n",
        "                perturb.data = perturb_data.data\n",
        "                perturb.grad[:] = 0\n",
        "\n",
        "            graph_embedding = model.pool(model.gnn(batch), batch.batch)\n",
        "\n",
        "            topk_graph_embedding = graph_embedding[topk_idx, :] + perturb\n",
        "            low_graph_embedding = graph_embedding[low_idx, :]\n",
        "\n",
        "            low_y = y[low_idx]\n",
        "            low_is_labeled = low_y == low_y\n",
        "\n",
        "            topk_pred = model.graph_pred_linear(topk_graph_embedding)\n",
        "            low_pred = model.graph_pred_linear(low_graph_embedding)\n",
        "\n",
        "            loss = 0\n",
        "            topk_loss = criterion(topk_pred.to(torch.float32)[topk_is_labeled], topk_y.to(torch.float32)[topk_is_labeled])\n",
        "            low_loss = criterion(low_pred.to(torch.float32)[low_is_labeled], low_y.to(torch.float32)[low_is_labeled])\n",
        "\n",
        "            topk_loss = topk_loss / (torch.sum(is_labeled) * m)\n",
        "            low_loss = topk_loss / (torch.sum(is_labeled))\n",
        "\n",
        "            loss = topk_loss + low_loss\n",
        "\n",
        "            loss.backward()\n",
        "            optimizer.step() # parameter update"
      ],
      "metadata": {
        "id": "SOo_eHBOCEHp"
      },
      "execution_count": 13,
      "outputs": []
    },
    {
      "cell_type": "code",
      "source": [
        "aais_sgd_train(model, device, train_loader, criterion, optimizer, args)"
      ],
      "metadata": {
        "id": "Yq6VO-dqEYsF"
      },
      "execution_count": 14,
      "outputs": []
    },
    {
      "cell_type": "markdown",
      "source": [
        "### Training loop"
      ],
      "metadata": {
        "id": "xWb_2mwlFPZV"
      }
    },
    {
      "cell_type": "code",
      "source": [
        "criterion = torch.nn.BCEWithLogitsLoss(reduction = 'sum')\n",
        "\n",
        "auc_vals, auc_tests = [], []\n",
        "f1_vals, f1_tests = [], []\n",
        "\n",
        "seed = 0\n",
        "set_seed(seed)\n",
        "torch_geometric.seed_everything(seed)\n",
        "\n",
        "best_val_auc, final_test_auc = 0, 0\n",
        "best_val_f1, final_test_f1 = 0, 0\n",
        "\n",
        "model = GNNGraphPred(num_tasks = num_task, num_layer = args.num_layer, emb_dim = args.emb_dim,\n",
        "                    gnn_type = args.gnn_type,\n",
        "                    graph_pooling = args.graph_pooling, drop_ratio = args.dropout_ratio, JK = args.JK,\n",
        "                    virtual_node = args.virtual, residual = args.residual)\n",
        "model = model.to(device)\n",
        "\n",
        "\n",
        "if args.optim_method == 'sgd':\n",
        "    optimizer = optim.SGD(model.parameters(), lr = args.lr)\n",
        "elif args.optim_method == 'adam':\n",
        "    iteration = 0\n",
        "    first_moment = 0.\n",
        "    second_moment = 0.\n",
        "    optimizer = optim.Adam(model.parameters(), lr = args.lr)\n",
        "\n",
        "\n",
        "for epoch in range(1, args.epochs + 1):\n",
        "    if (args.train_type == 'aais') & (args.optim_method == 'sgd'):\n",
        "        if epoch <= args.burn:\n",
        "            train(model, device, train_loader, criterion, optimizer)\n",
        "        else:\n",
        "            aais_sgd_train(model, device, train_loader, criterion, optimizer, args)\n",
        "    elif (args.train_type == 'aais') & (args.optim_method == 'adam'):\n",
        "        if epoch <= args.burn:\n",
        "            train(model, device, train_loader, criterion, optimizer)\n",
        "        else:\n",
        "            iteration, first_moment, second_moment = aais_adam_train(model, device, train_loader, criterion, optimizer, args, iteration, first_moment, second_moment)\n",
        "\n",
        "    train_loss, train_auc, train_f1 = evaluation(model, device, train_loader, criterion, args)\n",
        "    val_loss, val_auc, val_f1 = evaluation(model, device, val_loader, criterion, args)\n",
        "    test_loss, test_auc, test_f1 = evaluation(model, device, test_loader, criterion, args)\n",
        "\n",
        "    if val_auc > best_val_auc:\n",
        "        best_val_auc = val_auc\n",
        "        final_test_auc = test_auc\n",
        "        best_val_f1 = val_f1\n",
        "        final_test_f1 = test_f1\n",
        "\n",
        "        best_epoch = epoch\n",
        "        model_params = deepcopy(model.state_dict())\n",
        "\n",
        "    if epoch % 10 == 0:\n",
        "        print(f'=== epoch {epoch}')\n",
        "        print(f'train loss: {train_loss:.4f}, train auc: {train_auc*100:.2f}')\n",
        "        print(f'val loss: {val_loss:.4f}, val auc: {val_auc*100:.2f}')\n",
        "        print(f'test loss: {test_loss:.4f}, test auc: {test_auc*100:.2f}')\n"
      ],
      "metadata": {
        "colab": {
          "base_uri": "https://localhost:8080/"
        },
        "id": "aoV0j4vbFRqe",
        "outputId": "2e8d9e24-cd33-40f4-ff5a-0ce274d65323"
      },
      "execution_count": 15,
      "outputs": [
        {
          "output_type": "stream",
          "name": "stdout",
          "text": [
            "Random seed set as 0\n",
            "=== epoch 10\n",
            "train loss: 0.7589, train auc: 48.97\n",
            "val loss: 0.7672, val auc: 36.90\n",
            "test loss: 0.7634, test auc: 43.33\n",
            "=== epoch 20\n",
            "train loss: 0.7632, train auc: 51.11\n",
            "val loss: 0.7729, val auc: 38.00\n",
            "test loss: 0.7686, test auc: 44.55\n",
            "=== epoch 30\n",
            "train loss: 0.5802, train auc: 76.11\n",
            "val loss: 0.5675, val auc: 76.30\n",
            "test loss: 0.5880, test auc: 72.77\n",
            "=== epoch 40\n",
            "train loss: 0.5810, train auc: 86.84\n",
            "val loss: 0.5717, val auc: 89.67\n",
            "test loss: 0.5955, test auc: 80.14\n",
            "=== epoch 50\n",
            "train loss: 0.5592, train auc: 89.85\n",
            "val loss: 0.5448, val auc: 94.65\n",
            "test loss: 0.5778, test auc: 83.83\n",
            "=== epoch 60\n",
            "train loss: 0.5575, train auc: 92.17\n",
            "val loss: 0.5417, val auc: 97.41\n",
            "test loss: 0.5845, test auc: 85.39\n",
            "=== epoch 70\n",
            "train loss: 0.5566, train auc: 93.45\n",
            "val loss: 0.5415, val auc: 97.09\n",
            "test loss: 0.5861, test auc: 86.04\n",
            "=== epoch 80\n",
            "train loss: 0.5435, train auc: 95.05\n",
            "val loss: 0.5299, val auc: 98.04\n",
            "test loss: 0.5655, test auc: 85.78\n",
            "=== epoch 90\n",
            "train loss: 0.5438, train auc: 95.70\n",
            "val loss: 0.5319, val auc: 97.43\n",
            "test loss: 0.5692, test auc: 84.49\n",
            "=== epoch 100\n",
            "train loss: 0.5411, train auc: 96.28\n",
            "val loss: 0.5310, val auc: 97.56\n",
            "test loss: 0.5677, test auc: 85.44\n"
          ]
        }
      ]
    },
    {
      "cell_type": "markdown",
      "source": [
        "### Appendix - Plotting the top-k influential data"
      ],
      "metadata": {
        "id": "tqccaHC2FZEV"
      }
    },
    {
      "cell_type": "code",
      "source": [
        "model.load_state_dict(model_params)\n",
        "model.eval()\n",
        "\n",
        "train_y = []\n",
        "test_y = []\n",
        "train_embedding = []\n",
        "test_embedding = []\n",
        "train_influence = []\n",
        "test_influence = []\n",
        "\n",
        "for _, batch in enumerate(train_loader):\n",
        "    batch = batch.to(device)\n",
        "    train_y.append(batch.y[:, 1])\n",
        "    train_embedding.append(model.pool(model.gnn(batch), batch.batch))\n",
        "    train_influence.append(sgd_lin_if(model, batch, criterion, args))\n",
        "\n",
        "for _, batch in enumerate(test_loader):\n",
        "    batch = batch.to(device)\n",
        "    test_y.append(batch.y[:, 1])\n",
        "    test_embedding.append(model.pool(model.gnn(batch), batch.batch))\n",
        "    test_influence.append(sgd_lin_if(model, batch, criterion, args))\n",
        "\n",
        "train_y = torch.cat(train_y).view(-1).cpu().numpy()\n",
        "train_embedding = torch.cat(train_embedding).detach().cpu().numpy()\n",
        "train_influence = torch.cat(train_influence).cpu()\n",
        "\n",
        "test_y = torch.cat(test_y).view(-1).cpu().numpy()\n",
        "test_embedding = torch.cat(test_embedding).detach().cpu().numpy()\n",
        "test_influence = torch.cat(test_influence).cpu()"
      ],
      "metadata": {
        "id": "cV-aDGKaFjPJ"
      },
      "execution_count": 16,
      "outputs": []
    },
    {
      "cell_type": "code",
      "source": [
        "from sklearn.manifold import TSNE\n",
        "import matplotlib.pyplot as plt\n",
        "\n",
        "tsne = TSNE(n_components = 2, random_state = 0, perplexity = 50)\n",
        "train_tsne = tsne.fit_transform(train_embedding)\n",
        "\n",
        "train_top_k = int(len(train_y) * 0.3)\n",
        "_, topk_idxs = torch.topk(torch.tensor(train_influence), train_top_k)\n",
        "low_idxs = np.array([i for i in range(len(train_y)) if i not in topk_idxs])\n",
        "\n",
        "cdict = {0: 'cornflowerblue', 1: 'firebrick'}\n",
        "\n",
        "fig, ax = plt.subplots(figsize = (7, 7))\n",
        "\n",
        "for g in np.unique(train_y):\n",
        "    idx = np.where(train_y[low_idxs] == g)[0]\n",
        "    ax.scatter(train_tsne[low_idxs][idx][:, 0], train_tsne[low_idxs][idx][:, 1], label = '_nolgend_', c = cdict[g], alpha = 0.1)\n",
        "\n",
        "for g in np.unique(train_y):\n",
        "    idx = np.where(train_y[topk_idxs] == g)[0]\n",
        "    ax.scatter(train_tsne[topk_idxs][idx][:, 0], train_tsne[topk_idxs][idx][:, 1], c = cdict[g], label = g)\n",
        "\n",
        "plt.legend()\n",
        "plt.show()\n",
        "plt.close()\n"
      ],
      "metadata": {
        "colab": {
          "base_uri": "https://localhost:8080/",
          "height": 656
        },
        "id": "VRNjq200FTAW",
        "outputId": "e1c1d733-b380-4c66-8326-e6384f7530cd"
      },
      "execution_count": 17,
      "outputs": [
        {
          "output_type": "stream",
          "name": "stderr",
          "text": [
            "<ipython-input-17-0b6fd88cb7df>:8: UserWarning: To copy construct from a tensor, it is recommended to use sourceTensor.clone().detach() or sourceTensor.clone().detach().requires_grad_(True), rather than torch.tensor(sourceTensor).\n",
            "  _, topk_idxs = torch.topk(torch.tensor(train_influence), train_top_k)\n"
          ]
        },
        {
          "output_type": "display_data",
          "data": {
            "text/plain": [
              "<Figure size 700x700 with 1 Axes>"
            ],
            "image/png": "[encoded data removed]"
          },
          "metadata": {}
        }
      ]
    },
    {
      "cell_type": "markdown",
      "source": [
        "- While the dimensions are not neatly separated for each label, data points with high influence primarily appear in regions where major and minor labels overlap."
      ],
      "metadata": {
        "id": "T28dA0pEFpM6"
      }
    }
  ]
}